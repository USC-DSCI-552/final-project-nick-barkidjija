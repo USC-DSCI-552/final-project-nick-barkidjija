{
 "cells": [
  {
   "cell_type": "markdown",
   "metadata": {},
   "source": [
    "Nick Barkidjija\n",
    "USC ID: 1398652770\n",
    "Github username: nick-barkidjija"
   ]
  },
  {
   "cell_type": "code",
   "execution_count": 3,
   "metadata": {},
   "outputs": [],
   "source": [
    "import numpy as np\n",
    "import os\n",
    "import cv2\n",
    "from sklearn.preprocessing import LabelBinarizer\n",
    "from tensorflow.keras.utils import to_categorical"
   ]
  },
  {
   "cell_type": "markdown",
   "metadata": {},
   "source": [
    "preprocessing and class encoding"
   ]
  },
  {
   "cell_type": "code",
   "execution_count": 4,
   "metadata": {},
   "outputs": [
    {
     "name": "stdout",
     "output_type": "stream",
     "text": [
      "Train shape: (3798, 224, 224, 3) (3798, 9)\n",
      "Test shape: (954, 224, 224, 3) (954, 9)\n"
     ]
    }
   ],
   "source": [
    "#https://discuss.pytorch.org/t/transfer-learning-input-image-size/124081/2\n",
    "#asked ChatGPT for help with this cleaning\n",
    "\n",
    "data_dir = '../data/RealWaste/'\n",
    "size = (224, 224)  # size to resize to (reference above)\n",
    "nclasses = 9\n",
    "\n",
    "X_train, y_train = [], []\n",
    "X_test, y_test = [], []\n",
    "\n",
    "classes = sorted([d for d in os.listdir(data_dir) if os.path.isdir(os.path.join(data_dir, d))])\n",
    "encoder = LabelBinarizer()\n",
    "encoder.fit(classes)\n",
    "\n",
    "for cls in classes:\n",
    "    class_dir = os.path.join(data_dir, cls)\n",
    "    image_files = sorted(os.listdir(class_dir))\n",
    "    \n",
    "    num_train = int(len(image_files) * 0.8)\n",
    "    train_files = image_files[:num_train]\n",
    "    test_files = image_files[num_train:]\n",
    "\n",
    "    for fname in train_files:\n",
    "        img_path = os.path.join(class_dir, fname)\n",
    "        img = cv2.imread(img_path)\n",
    "        if img is None:\n",
    "            continue\n",
    "        img_resized = cv2.resize(img, size)\n",
    "        X_train.append(img_resized)\n",
    "        y_train.append(cls)\n",
    "\n",
    "    for fname in test_files:\n",
    "        img_path = os.path.join(class_dir, fname)\n",
    "        img = cv2.imread(img_path)\n",
    "        if img is None:\n",
    "            continue\n",
    "        img_resized = cv2.resize(img, size)\n",
    "        X_test.append(img_resized)\n",
    "        y_test.append(cls)\n",
    "\n",
    "#normalizing pixel values\n",
    "X_train = np.array(X_train) / 255.0\n",
    "X_test = np.array(X_test) / 255.0\n",
    "\n",
    "#encode\n",
    "y_train_encoded = encoder.transform(y_train)\n",
    "y_test_encoded = encoder.transform(y_test)\n",
    "\n",
    "print(\"Train shape:\", X_train.shape, y_train_encoded.shape)\n",
    "print(\"Test shape:\", X_test.shape, y_test_encoded.shape)\n"
   ]
  }
 ],
 "metadata": {
  "kernelspec": {
   "display_name": "base",
   "language": "python",
   "name": "python3"
  },
  "language_info": {
   "codemirror_mode": {
    "name": "ipython",
    "version": 3
   },
   "file_extension": ".py",
   "mimetype": "text/x-python",
   "name": "python",
   "nbconvert_exporter": "python",
   "pygments_lexer": "ipython3",
   "version": "3.10.1"
  },
  "orig_nbformat": 4
 },
 "nbformat": 4,
 "nbformat_minor": 2
}
